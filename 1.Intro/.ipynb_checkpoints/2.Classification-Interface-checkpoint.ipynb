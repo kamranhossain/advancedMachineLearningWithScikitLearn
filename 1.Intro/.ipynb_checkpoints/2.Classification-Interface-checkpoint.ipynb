{
 "cells": [
  {
   "cell_type": "code",
   "execution_count": 1,
   "metadata": {
    "collapsed": true
   },
   "outputs": [],
   "source": [
    "import matplotlib.pyplot as plt\n",
    "import numpy as np\n",
    "%matplotlib inline"
   ]
  },
  {
   "cell_type": "markdown",
   "metadata": {},
   "source": [
    "Classification\n",
    "==============="
   ]
  },
  {
   "cell_type": "markdown",
   "metadata": {},
   "source": [
    "Get some data to play with"
   ]
  },
  {
   "cell_type": "code",
   "execution_count": 2,
   "metadata": {
    "collapsed": false
   },
   "outputs": [
    {
     "data": {
      "text/plain": [
       "dict_keys(['DESCR', 'data', 'images', 'target_names', 'target'])"
      ]
     },
     "execution_count": 2,
     "metadata": {},
     "output_type": "execute_result"
    }
   ],
   "source": [
    "from sklearn.datasets import load_digits\n",
    "digits = load_digits()\n",
    "digits.keys()"
   ]
  },
  {
   "cell_type": "code",
   "execution_count": 3,
   "metadata": {
    "collapsed": false
   },
   "outputs": [
    {
     "data": {
      "text/plain": [
       "(1797, 8, 8)"
      ]
     },
     "execution_count": 3,
     "metadata": {},
     "output_type": "execute_result"
    }
   ],
   "source": [
    "digits.images.shape"
   ]
  },
  {
   "cell_type": "code",
   "execution_count": 4,
   "metadata": {
    "collapsed": false
   },
   "outputs": [
    {
     "name": "stdout",
     "output_type": "stream",
     "text": [
      "[[  0.   0.   5.  13.   9.   1.   0.   0.]\n",
      " [  0.   0.  13.  15.  10.  15.   5.   0.]\n",
      " [  0.   3.  15.   2.   0.  11.   8.   0.]\n",
      " [  0.   4.  12.   0.   0.   8.   8.   0.]\n",
      " [  0.   5.   8.   0.   0.   9.   8.   0.]\n",
      " [  0.   4.  11.   0.   1.  12.   7.   0.]\n",
      " [  0.   2.  14.   5.  10.  12.   0.   0.]\n",
      " [  0.   0.   6.  13.  10.   0.   0.   0.]]\n"
     ]
    }
   ],
   "source": [
    "print(digits.images[0])"
   ]
  },
  {
   "cell_type": "code",
   "execution_count": 5,
   "metadata": {
    "collapsed": false
   },
   "outputs": [
    {
     "data": {
      "text/plain": [
       "<matplotlib.image.AxesImage at 0x7f87574fd978>"
      ]
     },
     "execution_count": 5,
     "metadata": {},
     "output_type": "execute_result"
    },
    {
     "data": {
      "image/png": "[encoded data removed]",
      "text/plain": [
       "<matplotlib.figure.Figure at 0x7f87553827b8>"
      ]
     },
     "metadata": {},
     "output_type": "display_data"
    }
   ],
   "source": [
    "plt.matshow(digits.images[0], cmap=plt.cm.Greys)"
   ]
  },
  {
   "cell_type": "code",
   "execution_count": 6,
   "metadata": {
    "collapsed": false
   },
   "outputs": [
    {
     "data": {
      "text/plain": [
       "(1797, 64)"
      ]
     },
     "execution_count": 6,
     "metadata": {},
     "output_type": "execute_result"
    }
   ],
   "source": [
    "digits.data.shape"
   ]
  },
  {
   "cell_type": "code",
   "execution_count": 7,
   "metadata": {
    "collapsed": false
   },
   "outputs": [
    {
     "data": {
      "text/plain": [
       "(1797,)"
      ]
     },
     "execution_count": 7,
     "metadata": {},
     "output_type": "execute_result"
    }
   ],
   "source": [
    "digits.target.shape"
   ]
  },
  {
   "cell_type": "code",
   "execution_count": 8,
   "metadata": {
    "collapsed": false
   },
   "outputs": [
    {
     "data": {
      "text/plain": [
       "array([0, 1, 2, ..., 8, 9, 8])"
      ]
     },
     "execution_count": 8,
     "metadata": {},
     "output_type": "execute_result"
    }
   ],
   "source": [
    "digits.target"
   ]
  },
  {
   "cell_type": "markdown",
   "metadata": {},
   "source": [
    "**Data is always a numpy array (or sparse matrix) of shape (n_samples, n_features)**"
   ]
  },
  {
   "cell_type": "markdown",
   "metadata": {},
   "source": [
    "Split the data to get going"
   ]
  },
  {
   "cell_type": "code",
   "execution_count": 9,
   "metadata": {
    "collapsed": false
   },
   "outputs": [],
   "source": [
    "from sklearn.cross_validation import train_test_split\n",
    "X_train, X_test, y_train, y_test = train_test_split(digits.data, digits.target)"
   ]
  },
  {
   "cell_type": "markdown",
   "metadata": {},
   "source": [
    "Really Simple API\n",
    "-------------------\n",
    "0) Import your model class"
   ]
  },
  {
   "cell_type": "code",
   "execution_count": 10,
   "metadata": {
    "collapsed": false
   },
   "outputs": [],
   "source": [
    "from sklearn.svm import LinearSVC"
   ]
  },
  {
   "cell_type": "markdown",
   "metadata": {},
   "source": [
    "1) Instantiate an object and set the parameters"
   ]
  },
  {
   "cell_type": "code",
   "execution_count": 11,
   "metadata": {
    "collapsed": false
   },
   "outputs": [],
   "source": [
    "svm = LinearSVC(C=0.1)"
   ]
  },
  {
   "cell_type": "markdown",
   "metadata": {},
   "source": [
    "2) Fit the model"
   ]
  },
  {
   "cell_type": "code",
   "execution_count": 12,
   "metadata": {
    "collapsed": false
   },
   "outputs": [
    {
     "data": {
      "text/plain": [
       "LinearSVC(C=0.1, class_weight=None, dual=True, fit_intercept=True,\n",
       "     intercept_scaling=1, loss='squared_hinge', max_iter=1000,\n",
       "     multi_class='ovr', penalty='l2', random_state=None, tol=0.0001,\n",
       "     verbose=0)"
      ]
     },
     "execution_count": 12,
     "metadata": {},
     "output_type": "execute_result"
    }
   ],
   "source": [
    "svm.fit(X_train, y_train)"
   ]
  },
  {
   "cell_type": "markdown",
   "metadata": {},
   "source": [
    "3) Apply / evaluate"
   ]
  },
  {
   "cell_type": "code",
   "execution_count": 13,
   "metadata": {
    "collapsed": false
   },
   "outputs": [
    {
     "name": "stdout",
     "output_type": "stream",
     "text": [
      "[1 3 1 ..., 5 5 3]\n",
      "[1 3 1 ..., 5 5 3]\n"
     ]
    }
   ],
   "source": [
    "print(svm.predict(X_train))\n",
    "print(y_train)"
   ]
  },
  {
   "cell_type": "code",
   "execution_count": 14,
   "metadata": {
    "collapsed": false
   },
   "outputs": [
    {
     "data": {
      "text/plain": [
       "0.99554565701559017"
      ]
     },
     "execution_count": 14,
     "metadata": {},
     "output_type": "execute_result"
    }
   ],
   "source": [
    "svm.score(X_train, y_train)"
   ]
  },
  {
   "cell_type": "code",
   "execution_count": 15,
   "metadata": {
    "collapsed": false
   },
   "outputs": [
    {
     "data": {
      "text/plain": [
       "0.95111111111111113"
      ]
     },
     "execution_count": 15,
     "metadata": {},
     "output_type": "execute_result"
    }
   ],
   "source": [
    "svm.score(X_test, y_test)"
   ]
  },
  {
   "cell_type": "markdown",
   "metadata": {},
   "source": [
    "And again\n",
    "---------"
   ]
  },
  {
   "cell_type": "code",
   "execution_count": 16,
   "metadata": {
    "collapsed": false
   },
   "outputs": [],
   "source": [
    "from sklearn.ensemble import RandomForestClassifier"
   ]
  },
  {
   "cell_type": "code",
   "execution_count": 17,
   "metadata": {
    "collapsed": false
   },
   "outputs": [],
   "source": [
    "rf = RandomForestClassifier(n_estimators=50)"
   ]
  },
  {
   "cell_type": "code",
   "execution_count": 18,
   "metadata": {
    "collapsed": false
   },
   "outputs": [
    {
     "data": {
      "text/plain": [
       "RandomForestClassifier(bootstrap=True, class_weight=None, criterion='gini',\n",
       "            max_depth=None, max_features='auto', max_leaf_nodes=None,\n",
       "            min_samples_leaf=1, min_samples_split=2,\n",
       "            min_weight_fraction_leaf=0.0, n_estimators=50, n_jobs=1,\n",
       "            oob_score=False, random_state=None, verbose=0,\n",
       "            warm_start=False)"
      ]
     },
     "execution_count": 18,
     "metadata": {},
     "output_type": "execute_result"
    }
   ],
   "source": [
    "rf.fit(X_train, y_train)"
   ]
  },
  {
   "cell_type": "code",
   "execution_count": 19,
   "metadata": {
    "collapsed": false
   },
   "outputs": [
    {
     "data": {
      "text/plain": [
       "array([4, 1, 0, 4, 7, 2, 3, 6, 0, 2, 5, 1, 5, 6, 2, 9, 7, 9, 9, 0, 7, 8, 5,\n",
       "       6, 1, 8, 4, 1, 2, 0, 7, 1, 2, 3, 3, 8, 6, 9, 6, 3, 5, 7, 0, 2, 8, 7,\n",
       "       9, 3, 0, 4, 1, 1, 6, 3, 9, 9, 3, 2, 0, 2, 5, 2, 4, 0, 2, 5, 6, 6, 8,\n",
       "       3, 2, 7, 8, 7, 5, 5, 3, 0, 4, 0, 0, 8, 0, 4, 5, 8, 4, 3, 8, 4, 9, 5,\n",
       "       4, 1, 0, 6, 9, 9, 5, 2, 8, 4, 9, 0, 9, 7, 7, 9, 4, 0, 5, 3, 9, 4, 0,\n",
       "       8, 8, 9, 0, 5, 4, 4, 8, 6, 8, 1, 7, 6, 5, 7, 6, 0, 6, 4, 4, 9, 0, 3,\n",
       "       1, 2, 2, 7, 7, 3, 3, 3, 4, 9, 5, 0, 6, 0, 9, 2, 0, 4, 9, 4, 1, 6, 6,\n",
       "       1, 9, 5, 7, 4, 9, 4, 9, 0, 8, 7, 4, 5, 4, 4, 2, 4, 4, 0, 3, 8, 4, 6,\n",
       "       6, 4, 3, 0, 5, 9, 9, 5, 5, 9, 7, 1, 9, 5, 3, 0, 0, 8, 1, 4, 0, 5, 3,\n",
       "       8, 4, 7, 7, 3, 2, 6, 7, 8, 7, 1, 7, 4, 9, 6, 3, 9, 0, 3, 2, 0, 0, 6,\n",
       "       5, 9, 6, 4, 2, 2, 0, 6, 6, 0, 1, 4, 3, 1, 2, 1, 7, 4, 5, 9, 6, 7, 3,\n",
       "       0, 0, 3, 9, 0, 8, 9, 3, 6, 0, 8, 5, 0, 2, 4, 8, 7, 2, 8, 7, 8, 9, 1,\n",
       "       5, 6, 6, 2, 5, 6, 6, 3, 8, 2, 4, 5, 4, 1, 1, 7, 2, 9, 9, 2, 7, 2, 1,\n",
       "       8, 2, 4, 0, 9, 9, 0, 4, 3, 8, 0, 1, 3, 4, 8, 6, 7, 0, 4, 1, 6, 0, 6,\n",
       "       9, 9, 0, 0, 2, 7, 2, 3, 8, 3, 3, 1, 9, 8, 3, 1, 6, 5, 2, 2, 7, 6, 9,\n",
       "       0, 2, 7, 8, 1, 8, 3, 6, 8, 8, 5, 8, 7, 0, 2, 4, 2, 6, 2, 2, 8, 9, 8,\n",
       "       4, 9, 4, 6, 5, 9, 3, 8, 9, 8, 1, 0, 4, 3, 0, 3, 1, 8, 1, 6, 4, 5, 5,\n",
       "       0, 9, 0, 5, 6, 9, 6, 4, 1, 8, 2, 4, 9, 5, 3, 3, 2, 1, 8, 6, 1, 8, 9,\n",
       "       4, 0, 5, 7, 4, 4, 8, 9, 2, 9, 1, 0, 3, 5, 0, 7, 6, 9, 3, 5, 0, 0, 0,\n",
       "       7, 5, 8, 2, 0, 2, 3, 7, 9, 0, 0, 4, 2])"
      ]
     },
     "execution_count": 19,
     "metadata": {},
     "output_type": "execute_result"
    }
   ],
   "source": [
    "rf.predict(X_test)"
   ]
  },
  {
   "cell_type": "code",
   "execution_count": 20,
   "metadata": {
    "collapsed": false
   },
   "outputs": [
    {
     "data": {
      "text/plain": [
       "0.98222222222222222"
      ]
     },
     "execution_count": 20,
     "metadata": {},
     "output_type": "execute_result"
    }
   ],
   "source": [
    "rf.score(X_test, y_test)"
   ]
  },
  {
   "cell_type": "markdown",
   "metadata": {
    "collapsed": false
   },
   "source": [
    "<h1>Classifier Comparison</h1>\n",
    "<img src=\"classifier_comparison.png\" width=100%>"
   ]
  },
  {
   "cell_type": "markdown",
   "metadata": {},
   "source": [
    "Labels Can Be Anything\n",
    "============================="
   ]
  },
  {
   "cell_type": "code",
   "execution_count": 21,
   "metadata": {
    "collapsed": false
   },
   "outputs": [],
   "source": [
    "numbers = np.array([\"zero\", \"one\", \"two\", \"three\", \"four\", \"five\", \"six\", \"seven\", \"eight\", \"nine\"])"
   ]
  },
  {
   "cell_type": "code",
   "execution_count": 22,
   "metadata": {
    "collapsed": false
   },
   "outputs": [
    {
     "data": {
      "text/plain": [
       "LinearSVC(C=0.1, class_weight=None, dual=True, fit_intercept=True,\n",
       "     intercept_scaling=1, loss='squared_hinge', max_iter=1000,\n",
       "     multi_class='ovr', penalty='l2', random_state=None, tol=0.0001,\n",
       "     verbose=0)"
      ]
     },
     "execution_count": 22,
     "metadata": {},
     "output_type": "execute_result"
    }
   ],
   "source": [
    "y_train_string = numbers[y_train]\n",
    "svm.fit(X_train, y_train_string)"
   ]
  },
  {
   "cell_type": "code",
   "execution_count": 23,
   "metadata": {
    "collapsed": false,
    "scrolled": true
   },
   "outputs": [
    {
     "data": {
      "text/plain": [
       "array(['four', 'one', 'zero', 'four', 'seven', 'two', 'three', 'six',\n",
       "       'six', 'two', 'five', 'one', 'five', 'six', 'two', 'nine', 'seven',\n",
       "       'one', 'nine', 'zero', 'seven', 'eight', 'five', 'six', 'one',\n",
       "       'eight', 'four', 'one', 'two', 'zero', 'seven', 'one', 'two',\n",
       "       'five', 'three', 'eight', 'six', 'nine', 'six', 'three', 'five',\n",
       "       'seven', 'zero', 'two', 'eight', 'seven', 'nine', 'three', 'zero',\n",
       "       'four', 'one', 'one', 'six', 'three', 'nine', 'nine', 'three',\n",
       "       'two', 'zero', 'two', 'five', 'two', 'four', 'zero', 'two', 'five',\n",
       "       'six', 'six', 'eight', 'three', 'two', 'seven', 'eight', 'seven',\n",
       "       'five', 'five', 'three', 'zero', 'four', 'zero', 'zero', 'eight',\n",
       "       'zero', 'four', 'five', 'eight', 'seven', 'three', 'eight', 'four',\n",
       "       'nine', 'five', 'four', 'one', 'zero', 'six', 'nine', 'nine',\n",
       "       'five', 'two', 'one', 'four', 'nine', 'zero', 'nine', 'seven',\n",
       "       'seven', 'nine', 'four', 'zero', 'five', 'three', 'nine', 'four',\n",
       "       'zero', 'eight', 'eight', 'nine', 'zero', 'five', 'four', 'four',\n",
       "       'one', 'six', 'eight', 'one', 'seven', 'six', 'nine', 'seven',\n",
       "       'six', 'zero', 'six', 'four', 'four', 'nine', 'zero', 'three',\n",
       "       'one', 'two', 'two', 'seven', 'seven', 'three', 'three', 'three',\n",
       "       'four', 'nine', 'five', 'zero', 'six', 'zero', 'nine', 'two',\n",
       "       'zero', 'four', 'nine', 'seven', 'one', 'six', 'six', 'one', 'nine',\n",
       "       'three', 'seven', 'four', 'nine', 'four', 'nine', 'zero', 'eight',\n",
       "       'seven', 'four', 'five', 'four', 'four', 'two', 'four', 'four',\n",
       "       'zero', 'three', 'eight', 'four', 'six', 'six', 'four', 'three',\n",
       "       'zero', 'five', 'nine', 'nine', 'five', 'five', 'nine', 'seven',\n",
       "       'one', 'nine', 'five', 'three', 'zero', 'zero', 'eight', 'one',\n",
       "       'four', 'zero', 'five', 'three', 'eight', 'four', 'seven', 'seven',\n",
       "       'three', 'two', 'six', 'seven', 'eight', 'seven', 'one', 'seven',\n",
       "       'four', 'nine', 'six', 'three', 'nine', 'zero', 'eight', 'two',\n",
       "       'zero', 'zero', 'six', 'five', 'nine', 'six', 'four', 'two', 'two',\n",
       "       'zero', 'six', 'six', 'zero', 'one', 'four', 'three', 'one', 'two',\n",
       "       'one', 'seven', 'four', 'five', 'nine', 'six', 'seven', 'three',\n",
       "       'zero', 'zero', 'three', 'eight', 'zero', 'eight', 'nine', 'three',\n",
       "       'six', 'zero', 'eight', 'five', 'zero', 'two', 'four', 'eight',\n",
       "       'seven', 'two', 'eight', 'seven', 'eight', 'nine', 'one', 'five',\n",
       "       'six', 'six', 'two', 'five', 'six', 'six', 'three', 'eight', 'two',\n",
       "       'four', 'five', 'four', 'one', 'one', 'seven', 'two', 'nine',\n",
       "       'nine', 'two', 'seven', 'two', 'one', 'eight', 'two', 'four',\n",
       "       'zero', 'nine', 'eight', 'zero', 'four', 'three', 'eight', 'zero',\n",
       "       'one', 'three', 'four', 'seven', 'six', 'seven', 'zero', 'four',\n",
       "       'one', 'six', 'zero', 'six', 'nine', 'nine', 'zero', 'zero', 'two',\n",
       "       'seven', 'two', 'three', 'eight', 'three', 'three', 'one', 'nine',\n",
       "       'one', 'three', 'one', 'six', 'five', 'two', 'three', 'seven',\n",
       "       'six', 'nine', 'zero', 'two', 'seven', 'one', 'one', 'eight',\n",
       "       'three', 'six', 'eight', 'eight', 'five', 'eight', 'seven', 'zero',\n",
       "       'two', 'four', 'two', 'six', 'two', 'two', 'eight', 'nine', 'eight',\n",
       "       'four', 'nine', 'four', 'six', 'five', 'nine', 'three', 'eight',\n",
       "       'nine', 'eight', 'one', 'zero', 'four', 'three', 'zero', 'three',\n",
       "       'one', 'three', 'three', 'six', 'four', 'five', 'five', 'zero',\n",
       "       'nine', 'zero', 'five', 'six', 'three', 'six', 'four', 'one',\n",
       "       'nine', 'two', 'four', 'nine', 'five', 'three', 'three', 'two',\n",
       "       'four', 'eight', 'six', 'one', 'eight', 'nine', 'four', 'zero',\n",
       "       'five', 'seven', 'four', 'four', 'eight', 'nine', 'two', 'three',\n",
       "       'one', 'zero', 'three', 'nine', 'zero', 'seven', 'six', 'nine',\n",
       "       'nine', 'five', 'zero', 'zero', 'zero', 'seven', 'five', 'eight',\n",
       "       'two', 'zero', 'two', 'three', 'seven', 'nine', 'zero', 'zero',\n",
       "       'four', 'two'], \n",
       "      dtype='<U5')"
      ]
     },
     "execution_count": 23,
     "metadata": {},
     "output_type": "execute_result"
    }
   ],
   "source": [
    "svm.predict(X_test)"
   ]
  },
  {
   "cell_type": "code",
   "execution_count": null,
   "metadata": {
    "collapsed": true
   },
   "outputs": [],
   "source": []
  }
 ],
 "metadata": {
  "kernelspec": {
   "display_name": "Python [Root]",
   "language": "python",
   "name": "Python [Root]"
  },
  "language_info": {
   "codemirror_mode": {
    "name": "ipython",
    "version": 3
   },
   "file_extension": ".py",
   "mimetype": "text/x-python",
   "name": "python",
   "nbconvert_exporter": "python",
   "pygments_lexer": "ipython3",
   "version": "3.5.2"
  }
 },
 "nbformat": 4,
 "nbformat_minor": 0
}
